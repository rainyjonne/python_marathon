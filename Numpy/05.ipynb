{
 "cells": [
  {
   "cell_type": "markdown",
   "metadata": {},
   "source": [
    "## 作業目標\n",
    "1. 計算有缺失值的資料，統計量實作\n",
    "2. 作業重點\n",
    "    * 當遇到缺失值有函式可以處理，不須額外寫程式刪除\n",
    "    * 計算統計量時不能出現缺失值\n",
    "\n",
    "3. 題目:\n",
    "    * english_score = np.array([55,89,76,65,48,70])\n",
    "    * math_score = np.array([60,85,60,68,np.nan,60])\n",
    "    * chinese_score = np.array([65,90,82,72,66,77])\n",
    "    * 上3列共六位同學的英文、數學、國文成績，第一個元素代表第一位同學，舉例第一位同學英文55分、數學60分、國文65分，今天第五位同學因某原因沒來考試，導致數學成績缺值，運用上列數據回答下列問題。\n",
    "        1. 請計算各科成績平均、最大值、最小值、標準差，其中數學缺一筆資料可忽略?\n",
    "        2. 第五位同學補考數學後成績為55，請計算補考後數學成績平均、最大值、最小值、標準差?\n",
    "        3. 用補考後資料找出與國文成績相關係數最高的學科?"
   ]
  },
  {
   "cell_type": "code",
   "execution_count": 105,
   "metadata": {},
   "outputs": [],
   "source": [
    "import numpy as np"
   ]
  },
  {
   "cell_type": "code",
   "execution_count": 106,
   "metadata": {},
   "outputs": [],
   "source": [
    "english_score = np.array([55,89,76,65,48,70])\n",
    "math_score = np.array([60,85,60,68,np.nan,60])\n",
    "chinese_score = np.array([65,90,82,72,66,77])"
   ]
  },
  {
   "cell_type": "code",
   "execution_count": 107,
   "metadata": {},
   "outputs": [
    {
     "name": "stdout",
     "output_type": "stream",
     "text": [
      "英文成績的平均為67.16666666666667, 最大值為89, 最小值為48, 標準差為13.433995020924426\n",
      "國文成績的平均為75.33333333333333, 最大值為90, 最小值為65, 標準差為8.825468196582484\n",
      "數學成績的平均為66.6, 最大值為85.0, 最小值為60.0, 標準差為9.707728879609279\n",
      "數學少了np.nan的資料對整體標準差無影響\n"
     ]
    }
   ],
   "source": [
    "#1. 請計算各科成績平均、最大值、最小值、標準差，其中數學缺一筆資料可忽略?\n",
    "## 英文\n",
    "en_avg = np.nanmean(english_score)\n",
    "en_max = np.nanmax(english_score)\n",
    "en_min = np.nanmin(english_score)\n",
    "en_std = np.nanstd(english_score)\n",
    "print(f\"英文成績的平均為{en_avg}, 最大值為{en_max}, 最小值為{en_min}, 標準差為{en_std}\")\n",
    "\n",
    "## 國文\n",
    "ch_avg = np.nanmean(chinese_score)\n",
    "ch_max = np.nanmax(chinese_score)\n",
    "ch_min = np.nanmin(chinese_score)\n",
    "ch_std = np.nanstd(chinese_score)\n",
    "print(f\"國文成績的平均為{ch_avg}, 最大值為{ch_max}, 最小值為{ch_min}, 標準差為{ch_std}\")\n",
    "\n",
    "## 數學\n",
    "mt_avg = np.nanmean(math_score)\n",
    "mt_max = np.nanmax(math_score)\n",
    "mt_min = np.nanmin(math_score)\n",
    "mt_std = np.nanstd(math_score)\n",
    "print(f\"數學成績的平均為{mt_avg}, 最大值為{mt_max}, 最小值為{mt_min}, 標準差為{mt_std}\")\n",
    "print(\"數學少了np.nan的資料對整體標準差無影響\")\n"
   ]
  },
  {
   "cell_type": "code",
   "execution_count": 108,
   "metadata": {},
   "outputs": [
    {
     "name": "stdout",
     "output_type": "stream",
     "text": [
      "數學成績的平均為64.66666666666667, 最大值為85, 最小值為55, 標準差為9.860132971832694\n"
     ]
    }
   ],
   "source": [
    "#2. 第五位同學補考數學後成績為55，請計算補考後數學成績平均、最大值、最小值、標準差?\n",
    "new_math_score = np.array([60,85,60,68, 55,60])\n",
    "nmt_avg = np.nanmean(new_math_score)\n",
    "nmt_max = np.nanmax(new_math_score)\n",
    "nmt_min = np.nanmin(new_math_score)\n",
    "nmt_std = np.nanstd(new_math_score)\n",
    "print(f\"數學成績的平均為{nmt_avg}, 最大值為{nmt_max}, 最小值為{nmt_min}, 標準差為{nmt_std}\")"
   ]
  },
  {
   "cell_type": "code",
   "execution_count": 109,
   "metadata": {},
   "outputs": [
    {
     "name": "stdout",
     "output_type": "stream",
     "text": [
      "[[1.         0.7855563  0.97792828]\n",
      " [0.7855563  1.         0.74056803]\n",
      " [0.97792828 0.74056803 1.        ]]\n",
      "可以見到english score與chinese score的相關係數：0.9779282830211269，比起math score與chinese score的相關係數：0.7405680270233628 來得高，因此與國文成績相關係數最高的學科為英文\n"
     ]
    }
   ],
   "source": [
    "#3. 用補考後資料找出與國文成績相關係數最高的學科?\n",
    "en_mt = np.stack((english_score, new_math_score))\n",
    "ret = np.corrcoef(en_mt, chinese_score)\n",
    "print(ret)\n",
    "print(f\"可以見到english score與chinese score的相關係數：{ret[2][0]}，比起math score與chinese score的相關係數：{ret[2][1]} 來得高，因此與國文成績相關係數最高的學科為英文\")"
   ]
  }
 ],
 "metadata": {
  "kernelspec": {
   "display_name": "Python 3",
   "language": "python",
   "name": "python3"
  },
  "language_info": {
   "codemirror_mode": {
    "name": "ipython",
    "version": 3
   },
   "file_extension": ".py",
   "mimetype": "text/x-python",
   "name": "python",
   "nbconvert_exporter": "python",
   "pygments_lexer": "ipython3",
   "version": "3.8.5"
  }
 },
 "nbformat": 4,
 "nbformat_minor": 4
}
