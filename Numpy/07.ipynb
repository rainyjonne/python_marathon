{
 "cells": [
  {
   "cell_type": "markdown",
   "metadata": {},
   "source": [
    "## 作業目標\n",
    "1. 活用矩陣運算，實做線性代數\n",
    "2. 作業重點\n",
    "    * 線性代數公式應用\n",
    "    * 矩陣相乘維度需要對好，例如:2X3矩陣乘上3X5矩陣得到2X5矩陣\n",
    "\n",
    "3. 題目: array1 = np.array([[10, 8], [3, 5]])\n",
    "    * 運用上列array計算反矩陣，乘上原矩陣，並觀察是否為單位矩陣?\n",
    "    * 運用上列array計算特徵值、特徵向量?\n",
    "    * 運用上列array計算SVD?"
   ]
  },
  {
   "cell_type": "code",
   "execution_count": 10,
   "metadata": {},
   "outputs": [],
   "source": [
    "import numpy as np"
   ]
  },
  {
   "cell_type": "code",
   "execution_count": 11,
   "metadata": {},
   "outputs": [
    {
     "name": "stdout",
     "output_type": "stream",
     "text": [
      "原矩陣\n",
      "[[10  8]\n",
      " [ 3  5]]\n",
      "-----\n",
      "反矩陣\n",
      "[[ 0.19230769 -0.30769231]\n",
      " [-0.11538462  0.38461538]]\n",
      "-----\n",
      "原矩陣 @ 反矩陣\n",
      "[[1. 0.]\n",
      " [0. 1.]]\n",
      "-----\n",
      "原矩陣array1乘上其反矩陣inv_array1會得到一個二維的單位矩陣\n"
     ]
    }
   ],
   "source": [
    "#1. 運用上列array計算反矩陣，乘上原矩陣，並觀察是否為單位矩陣?\n",
    "array1 = np.array([[10, 8], [3, 5]])\n",
    "print(\"原矩陣\")\n",
    "print(array1)\n",
    "print(\"-----\")\n",
    "\n",
    "# 反矩陣\n",
    "inv_array1 = np.linalg.inv(array1)\n",
    "print(\"反矩陣\")\n",
    "print(inv_array1)\n",
    "print(\"-----\")\n",
    "\n",
    "# 原矩陣 @ 反矩陣\n",
    "print(\"原矩陣 @ 反矩陣\")\n",
    "print(array1 @ inv_array1)\n",
    "print(\"-----\")\n",
    "\n",
    "print(\"原矩陣array1乘上其反矩陣inv_array1會得到一個二維的單位矩陣\")"
   ]
  },
  {
   "cell_type": "code",
   "execution_count": 12,
   "metadata": {},
   "outputs": [
    {
     "name": "stdout",
     "output_type": "stream",
     "text": [
      "特徵值\n",
      "[13.  2.]\n",
      "-----\n",
      "特徵向量\n",
      "[[ 0.93632918 -0.70710678]\n",
      " [ 0.35112344  0.70710678]]\n"
     ]
    }
   ],
   "source": [
    "#2. 運用上列array計算特徵值、特徵向量?\n",
    "values, vectors = np.linalg.eig(array1)\n",
    "\n",
    "print(\"特徵值\")\n",
    "print(values)\n",
    "print(\"-----\")\n",
    "print(\"特徵向量\")\n",
    "print(vectors)"
   ]
  },
  {
   "cell_type": "code",
   "execution_count": 13,
   "metadata": {},
   "outputs": [
    {
     "data": {
      "text/plain": [
       "(array([[-0.91663818, -0.39971796],\n",
       "        [-0.39971796,  0.91663818]]),\n",
       " array([13.94721714,  1.86417116]),\n",
       " array([[-0.74319741, -0.6690722 ],\n",
       "        [-0.6690722 ,  0.74319741]]))"
      ]
     },
     "execution_count": 13,
     "metadata": {},
     "output_type": "execute_result"
    }
   ],
   "source": [
    "#3. 運用上列array計算SVD?\n",
    "np.linalg.svd(array1)"
   ]
  }
 ],
 "metadata": {
  "kernelspec": {
   "display_name": "Python 3",
   "language": "python",
   "name": "python3"
  },
  "language_info": {
   "codemirror_mode": {
    "name": "ipython",
    "version": 3
   },
   "file_extension": ".py",
   "mimetype": "text/x-python",
   "name": "python",
   "nbconvert_exporter": "python",
   "pygments_lexer": "ipython3",
   "version": "3.8.5"
  }
 },
 "nbformat": 4,
 "nbformat_minor": 4
}
