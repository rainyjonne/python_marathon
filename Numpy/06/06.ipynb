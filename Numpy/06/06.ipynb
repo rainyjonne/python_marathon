{
 "cells": [
  {
   "cell_type": "markdown",
   "metadata": {},
   "source": [
    "## 作業目標\n",
    "1. 讀取存取陣列資料\n",
    "2. 作業重點: 多陣列存一起需要存成npz，讀取須注意npz中有多個陣列\n",
    "\n",
    "3. 題目:\n",
    "    * 將下兩列array存成npz檔\n",
    "    * array1 = np.array(range(30))\n",
    "    * array2 = np.array([2,3,5])\n",
    "    * 讀取剛剛的npz檔，加入下列array一起存成新的npz檔"
   ]
  },
  {
   "cell_type": "code",
   "execution_count": 1,
   "metadata": {},
   "outputs": [],
   "source": [
    "import numpy as np"
   ]
  },
  {
   "cell_type": "code",
   "execution_count": 2,
   "metadata": {},
   "outputs": [],
   "source": [
    "#. 將下兩列array存成npz檔\n",
    "array1 = np.array(range(30))\n",
    "array2 = np.array([2,3,5])\n",
    "\n",
    "with open('06_result.npz', 'wb') as f:\n",
    "    np.savez(f, array1=array1, array2=array2)\n",
    "f.close()"
   ]
  },
  {
   "cell_type": "code",
   "execution_count": 4,
   "metadata": {},
   "outputs": [
    {
     "name": "stdout",
     "output_type": "stream",
     "text": [
      "[ 0  1  2  3  4  5  6  7  8  9 10 11 12 13 14 15 16 17 18 19 20 21 22 23\n",
      " 24 25 26 27 28 29]\n",
      "[2 3 5]\n",
      "[1 2]\n",
      "[ 0  1  2  3  4  5  6  7  8  9 10 11 12 13 14 15 16 17 18 19 20 21 22 23\n",
      " 24 25 26 27 28 29]\n",
      "[2 3 5]\n",
      "[1 2]\n"
     ]
    }
   ],
   "source": [
    "#2. 讀取剛剛的npz檔，加入下列array一起存成新的npz檔\n",
    "# 沒看到「下列array」所以挑選test.npy的第一個array當作下列array\n",
    "npzfile = np.load('06_result.npz')\n",
    "read_array1 = npzfile['array1']\n",
    "read_array2 = npzfile['array2']\n",
    "print(read_array1)\n",
    "print(read_array2)\n",
    "\n",
    "next_array = np.load('test.npy')\n",
    "print(next_array)\n",
    "\n",
    "with open('06_new_result.npz', 'wb') as f:\n",
    "    np.savez(f, array1=read_array1, array2=read_array2, array3=next_array)\n",
    "f.close()\n",
    "new_npzfile = np.load('06_new_result.npz')\n",
    "print(new_npzfile['array1'])\n",
    "print(new_npzfile['array2'])\n",
    "print(new_npzfile['array3'])\n",
    "\n",
    "# close the npz file\n",
    "del npzfile\n",
    "del new_npzfile"
   ]
  },
  {
   "cell_type": "code",
   "execution_count": null,
   "metadata": {},
   "outputs": [],
   "source": []
  },
  {
   "cell_type": "code",
   "execution_count": null,
   "metadata": {},
   "outputs": [],
   "source": []
  }
 ],
 "metadata": {
  "kernelspec": {
   "display_name": "Python 3",
   "language": "python",
   "name": "python3"
  },
  "language_info": {
   "codemirror_mode": {
    "name": "ipython",
    "version": 3
   },
   "file_extension": ".py",
   "mimetype": "text/x-python",
   "name": "python",
   "nbconvert_exporter": "python",
   "pygments_lexer": "ipython3",
   "version": "3.8.5"
  }
 },
 "nbformat": 4,
 "nbformat_minor": 4
}
