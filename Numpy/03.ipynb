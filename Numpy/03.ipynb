{
 "cells": [
  {
   "cell_type": "markdown",
   "metadata": {},
   "source": [
    "## 作業目標:\n",
    "1. 嘗試練習log的函式並應用\n",
    "2. 作業重點:\n",
    "    * 學員需要複習log的轉換方式\n",
    "    * 熟悉運用指數函數以及對數函數\n",
    "\n",
    "3. 題目: 運用投影片中的分貝公式回答下列問題。\n",
    "    1. 正常的談話的聲壓為20000微巴斯卡，請問多少分貝?\n",
    "    2. 30分貝的聲壓會是50分貝的幾倍?"
   ]
  },
  {
   "cell_type": "code",
   "execution_count": 20,
   "metadata": {},
   "outputs": [],
   "source": [
    "import numpy as np"
   ]
  },
  {
   "cell_type": "code",
   "execution_count": 21,
   "metadata": {},
   "outputs": [
    {
     "name": "stdout",
     "output_type": "stream",
     "text": [
      "0.0\n",
      "20000微巴斯卡是60.0分貝\n"
     ]
    }
   ],
   "source": [
    "#1.正常的談話的聲壓為20000微巴斯卡，請問多少分貝?\n",
    "#請寫下程式\n",
    "V1 = 20000\n",
    "V0 = 20\n",
    "\n",
    "# 0分貝\n",
    "print(20*np.log10(20/20))\n",
    "\n",
    "# 20000微巴斯卡\n",
    "Gdb = 20*np.log10(20000/20)\n",
    "print(f\"20000微巴斯卡是{Gdb}分貝\")"
   ]
  },
  {
   "cell_type": "code",
   "execution_count": 22,
   "metadata": {},
   "outputs": [
    {
     "name": "stdout",
     "output_type": "stream",
     "text": [
      "30分貝的聲壓為632.4555320336758微巴斯卡\n",
      "50分貝的聲壓為6324.555320336759微巴斯卡\n",
      "30分貝的聲壓是50分貝聲壓的0.09999999999999999倍\n"
     ]
    }
   ],
   "source": [
    "#2.30分貝的聲壓會是50分貝的幾倍?\n",
    "#公式移項過後可以得到 V1 = ?\n",
    "#請寫下程式\n",
    "\n",
    "# 30分貝聲壓\n",
    "Gdb_30 = np.power(10, 30/20)*20\n",
    "print(f\"30分貝的聲壓為{Gdb_30}微巴斯卡\")\n",
    "\n",
    "# 50分貝聲壓\n",
    "Gdb_50 = np.power(10, 50/20)*20\n",
    "print(f\"50分貝的聲壓為{Gdb_50}微巴斯卡\")\n",
    "\n",
    "multiple_times = Gdb_30/Gdb_50\n",
    "print(f\"30分貝的聲壓是50分貝聲壓的{multiple_times}倍\")"
   ]
  }
 ],
 "metadata": {
  "kernelspec": {
   "display_name": "Python 3",
   "language": "python",
   "name": "python3"
  },
  "language_info": {
   "codemirror_mode": {
    "name": "ipython",
    "version": 3
   },
   "file_extension": ".py",
   "mimetype": "text/x-python",
   "name": "python",
   "nbconvert_exporter": "python",
   "pygments_lexer": "ipython3",
   "version": "3.8.5"
  }
 },
 "nbformat": 4,
 "nbformat_minor": 4
}
