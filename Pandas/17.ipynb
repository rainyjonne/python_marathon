{
 "cells": [
  {
   "cell_type": "markdown",
   "metadata": {},
   "source": [
    "## 題目 : \n",
    "\n",
    "1. 在速度較慢的時候，可以先從哪邊開始檢查？\n",
    "2. 資料過大時應採取什麼方式讓記憶體占用量下降？"
   ]
  },
  {
   "cell_type": "markdown",
   "metadata": {},
   "source": [
    "1. 在速度較慢的時候，可以先從哪邊開始檢查？\n",
    "    * 先檢查讀的檔案為何，如果是csv檔會比pkl檔慢很多\n",
    "    * 檢查使用的function，是否為python的內建函式(比較快)，確認使用的function是否影響效率"
   ]
  },
  {
   "cell_type": "markdown",
   "metadata": {},
   "source": [
    "2. 資料過大時應採取什麼方式讓記憶體占用量下降？\n",
    "    * 應該使用**型態降級**的方式來讓記憶體占用量下降，例如將浮點數64的型態改成浮點數32的型態"
   ]
  },
  {
   "cell_type": "code",
   "execution_count": null,
   "metadata": {},
   "outputs": [],
   "source": []
  }
 ],
 "metadata": {
  "kernelspec": {
   "display_name": "Python 3",
   "language": "python",
   "name": "python3"
  },
  "language_info": {
   "codemirror_mode": {
    "name": "ipython",
    "version": 3
   },
   "file_extension": ".py",
   "mimetype": "text/x-python",
   "name": "python",
   "nbconvert_exporter": "python",
   "pygments_lexer": "ipython3",
   "version": "3.8.5"
  }
 },
 "nbformat": 4,
 "nbformat_minor": 4
}
