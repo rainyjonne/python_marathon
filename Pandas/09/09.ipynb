{
 "cells": [
  {
   "cell_type": "markdown",
   "metadata": {},
   "source": [
    "## 作業目標:\n",
    "1. 讀取各種檔案格式\n",
    "2. 輸出各種檔案格式\n",
    "\n",
    "3. 作業重點:\n",
    "    1. 不同檔案讀取方式皆不同，須了解檔案格式中的邏輯，例如:csv是以逗號分隔\n",
    "    2. 讀取、輸出檔案的程式碼不同，須注意使用方式\n",
    "\n",
    "4. 題目: 讀取資料夾中boston.csv讀取其欄位CHAS、NOX、RM，輸出成.xlsx檔案"
   ]
  },
  {
   "cell_type": "code",
   "execution_count": 1,
   "metadata": {},
   "outputs": [],
   "source": [
    "import pandas as pd"
   ]
  },
  {
   "cell_type": "code",
   "execution_count": 5,
   "metadata": {},
   "outputs": [
    {
     "name": "stdout",
     "output_type": "stream",
     "text": [
      "     CHAS    NOX     RM\n",
      "0     0.0  0.538  6.575\n",
      "1     0.0  0.469  6.421\n",
      "2     0.0  0.469  7.185\n",
      "3     0.0  0.458  6.998\n",
      "4     0.0  0.458  7.147\n",
      "..    ...    ...    ...\n",
      "501   0.0  0.573  6.593\n",
      "502   0.0  0.573  6.120\n",
      "503   0.0  0.573  6.976\n",
      "504   0.0  0.573  6.794\n",
      "505   0.0  0.573  6.030\n",
      "\n",
      "[506 rows x 3 columns]\n"
     ]
    }
   ],
   "source": [
    "#讀取資料夾中boston.csv讀取其欄位CHAS、NOX、RM，輸出成.xlsx檔案\n",
    "\n",
    "boston_data = pd.read_csv('boston.csv', usecols=[\"CHAS\", \"NOX\", \"RM\"])\n",
    "print(boston_data)\n",
    "\n",
    "#輸出\n",
    "boston_data.to_excel('boston.xlsx', sheet_name=\"boston\")"
   ]
  },
  {
   "cell_type": "code",
   "execution_count": null,
   "metadata": {},
   "outputs": [],
   "source": []
  }
 ],
 "metadata": {
  "kernelspec": {
   "display_name": "Python 3",
   "language": "python",
   "name": "python3"
  },
  "language_info": {
   "codemirror_mode": {
    "name": "ipython",
    "version": 3
   },
   "file_extension": ".py",
   "mimetype": "text/x-python",
   "name": "python",
   "nbconvert_exporter": "python",
   "pygments_lexer": "ipython3",
   "version": "3.8.5"
  }
 },
 "nbformat": 4,
 "nbformat_minor": 4
}
